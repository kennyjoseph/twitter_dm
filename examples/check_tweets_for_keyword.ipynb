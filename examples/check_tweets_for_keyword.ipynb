{
 "cells": [
  {
   "cell_type": "code",
   "execution_count": 21,
   "metadata": {
    "collapsed": false
   },
   "outputs": [],
   "source": [
    "from twitter_dm.TwitterUser import TwitterUser\n",
    "from twitter_dm.utility.general_utils import get_handles\n",
    "import glob, os\n",
    "\n",
    "PATH_TO_TWITTER_APP_HANDLES = \"YOUR_PATH_TO_TWITTER_HANDLES\"\n",
    "\n",
    "sn = \"DataKind\"\n",
    "json_filename = \"dk.json\"\n",
    "handles = get_handles(glob.glob(os.path.join(PATH_TO_TWITTER_APP_HANDLES,\"*.txt\")),silent=True)\n",
    "u = TwitterUser(api_hook=handles[0],screen_name=sn)"
   ]
  },
  {
   "cell_type": "code",
   "execution_count": 22,
   "metadata": {
    "collapsed": false
   },
   "outputs": [
    {
     "name": "stdout",
     "output_type": "stream",
     "text": [
      "WROTE OUT  3198  FOR:  DataKind\n"
     ]
    },
    {
     "data": {
      "text/plain": [
       "'dk.json.gz'"
      ]
     },
     "execution_count": 22,
     "metadata": {},
     "output_type": "execute_result"
    }
   ],
   "source": [
    "# go collect the user's tweets \n",
    "u.populate_tweets_from_api(json_output_filename=json_filename,sleep_var=False)"
   ]
  },
  {
   "cell_type": "code",
   "execution_count": 35,
   "metadata": {
    "collapsed": false
   },
   "outputs": [
    {
     "name": "stdout",
     "output_type": "stream",
     "text": [
      "745 3198\n"
     ]
    }
   ],
   "source": [
    "from twitter_dm.nlp.nlp_helpers import *\n",
    "\n",
    "# do a simple unigram search with an expanded token set using get_alternate_wordforms in nlp_helpers\n",
    "identity_set = {\"player\",\"athlete\",\"boxer\",\"dancer\",\"chef\"}\n",
    "def get_tweets_with_terms_of_interest(tweets):\n",
    "    u = TwitterUser()\n",
    "    u.populate_tweets_from_file(tweets,store_json=True)\n",
    "    tweets_to_keep = []\n",
    "    for t in u.tweets:\n",
    "        if not t.retweeted:\n",
    "            expanded_token_set = set(t.tokens)\n",
    "            for token in t.tokens:\n",
    "                expanded_token_set |= get_alternate_wordforms(token)\n",
    "\n",
    "            if len(expanded_token_set & identity_list):\n",
    "                #print t.text\n",
    "                #print expanded_token_set\n",
    "                #print ' yep, ', expanded_token_set & identity_list\n",
    "                tweets_to_keep.append(t.raw_json)\n",
    "    print len(tweets_to_keep), len(u.tweets)\n",
    "    return tweets_to_keep\n",
    "\n",
    "\n",
    "x = get_tweets_with_terms_of_interest(\"dk.json.gz\")\n"
   ]
  },
  {
   "cell_type": "code",
   "execution_count": 30,
   "metadata": {
    "collapsed": true
   },
   "outputs": [],
   "source": []
  }
 ],
 "metadata": {
  "kernelspec": {
   "display_name": "Python 2",
   "language": "python",
   "name": "python2"
  },
  "language_info": {
   "codemirror_mode": {
    "name": "ipython",
    "version": 2
   },
   "file_extension": ".py",
   "mimetype": "text/x-python",
   "name": "python",
   "nbconvert_exporter": "python",
   "pygments_lexer": "ipython2",
   "version": "2.7.10"
  }
 },
 "nbformat": 4,
 "nbformat_minor": 0
}
